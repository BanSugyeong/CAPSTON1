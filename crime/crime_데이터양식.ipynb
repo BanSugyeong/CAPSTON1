{
 "cells": [
  {
   "cell_type": "code",
   "execution_count": 1,
   "metadata": {},
   "outputs": [],
   "source": [
    "import pandas as pd"
   ]
  },
  {
   "cell_type": "code",
   "execution_count": null,
   "metadata": {},
   "outputs": [],
   "source": [
    "# 새로운 리스트 생성\n",
    "\n",
    "# 행 이름(자치구)\n",
    "gu_points = ['강남구', '강동구', '강북구', '강서구', '관악구', '광진구', '구로구', '금천구', '노원구', '도봉구', '동대문구', '동작구', '마포구', '서대문구', '서초구', \n",
    "             '성동구', '성북구', '송파구', '양천구', '영등포구', '용산구', '은평구', '종로구', '중구', '중랑구']\n",
    "\n",
    "# 살인, 강도, 강간/강제추행, 절도, 폭력\n",
    "# 월별로 만들기\n",
    "murder_2007 = []\n",
    "robber_2007 = []\n",
    "rape_2007 = []\n",
    "theft_2007 = []\n",
    "violence_2007 = []\n",
    "\n",
    "\n",
    "df = pd.DataFrame(gu_points, columns=['자치구'])\n",
    "df['20년7월_살인'] = murder_2007\n",
    "df['20년7월_강도'] = robber_2007\n",
    "df['20년7월_강간/강제추행'] = rape_2007\n",
    "df['20년7월_절도'] = theft_2007\n",
    "df['20년7월_폭력'] = violence_2007\n",
    "\n",
    "# 새롭게 생성된 리스트 csv 파일로 저장\n",
    "df.to_csv('2020년_범죄건수.csv', encoding='cp949', index=False)\n",
    "df"
   ]
  }
 ],
 "metadata": {
  "kernelspec": {
   "display_name": "Python 3",
   "language": "python",
   "name": "python3"
  },
  "language_info": {
   "codemirror_mode": {
    "name": "ipython",
    "version": 3
   },
   "file_extension": ".py",
   "mimetype": "text/x-python",
   "name": "python",
   "nbconvert_exporter": "python",
   "pygments_lexer": "ipython3",
   "version": "3.9.7"
  },
  "orig_nbformat": 4
 },
 "nbformat": 4,
 "nbformat_minor": 2
}
